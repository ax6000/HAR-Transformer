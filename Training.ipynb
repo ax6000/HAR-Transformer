{
  "cells": [
    {
      "attachments": {},
      "cell_type": "markdown",
      "metadata": {
        "id": "VhQSb7PdZznG"
      },
      "source": [
        "# Sequence-to-sequence activity recognition"
      ]
    },
    {
      "cell_type": "code",
      "execution_count": 1,
      "metadata": {
        "colab": {
          "base_uri": "https://localhost:8080/"
        },
        "id": "n2y0GYTdc-nY",
        "outputId": "8a4c97ee-752b-4ef3-a83d-e6da46c5f019"
      },
      "outputs": [],
      "source": [
        "# !pip3 install wandb"
      ]
    },
    {
      "cell_type": "code",
      "execution_count": 2,
      "metadata": {
        "colab": {
          "base_uri": "https://localhost:8080/"
        },
        "id": "gSxOaWIFSBM-",
        "outputId": "475bc447-6414-46af-c5ec-49526e2808f8"
      },
      "outputs": [],
      "source": [
        "# !pip3 install git+https://github.com/tensorflow/addons.git"
      ]
    },
    {
      "cell_type": "code",
      "execution_count": 3,
      "metadata": {
        "id": "VSncNSHtZznI"
      },
      "outputs": [
        {
          "name": "stderr",
          "output_type": "stream",
          "text": [
            "c:\\Users\\bsa\\Anaconda3\\envs\\shl2023\\lib\\site-packages\\tensorflow_addons\\utils\\tfa_eol_msg.py:23: UserWarning: \n",
            "\n",
            "TensorFlow Addons (TFA) has ended development and introduction of new features.\n",
            "TFA has entered a minimal maintenance and release mode until a planned end of life in May 2024.\n",
            "Please modify downstream libraries to take dependencies from other repositories in our TensorFlow community (e.g. Keras, Keras-CV, and Keras-NLP). \n",
            "\n",
            "For more information see: https://github.com/tensorflow/addons/issues/2807 \n",
            "\n",
            "  warnings.warn(\n"
          ]
        }
      ],
      "source": [
        "from tensorflow.keras.layers import Add, Dense, Dropout, MultiHeadAttention, LayerNormalization, Layer, Normalization\n",
        "from tensorflow.keras.optimizers import Adam\n",
        "from tensorflow.keras import Model\n",
        "from tensorflow.keras.initializers import TruncatedNormal\n",
        "from tensorflow.keras.callbacks import EarlyStopping, LearningRateScheduler, Callback, ModelCheckpoint\n",
        "from tensorflow.keras.utils import plot_model,Sequence\n",
        "from tensorflow_addons.optimizers import AdamW\n",
        "from wandb.keras import WandbCallback\n",
        "from sklearn.model_selection import train_test_split \n",
        "# from sklern.metric.preprocessing import StandardScaler\n",
        "import math\n",
        "import wandb\n",
        "import numpy as np\n",
        "import pandas as pd\n",
        "import tensorflow as tf\n",
        "import seaborn as sns\n",
        "import matplotlib.pyplot as plt\n",
        "import os\n",
        "import scipy"
      ]
    },
    {
      "cell_type": "code",
      "execution_count": 4,
      "metadata": {},
      "outputs": [],
      "source": [
        "# パス（相対パスで書くこと。他の環境でも動作させるため。）\n",
        "OUTPUT_DIR = '../output/model/transformer/'\n",
        "MODEL_OUT = '0606'\n",
        "# TRAINING_PATH = '../data/every_5s_normalized/train/'\n",
        "# VAL_PATH = '../data/every_5s_normalized/validate/'\n",
        "# TEST_PATH = '../data/every_5s_normalized/test/'\n",
        "# POS = 'Hand'\n",
        "# FILENAME_ACC = \"Acc_every_5s.npy\"\n",
        "# FILENAME_GYR = \"Gyr_every_5s.npy\"\n",
        "# FILENAME_MAG = \"Mag_every_5s.npy\"\n",
        "# FILENAME_LABEL = 'Label_every_5s.npy'"
      ]
    },
    {
      "cell_type": "code",
      "execution_count": null,
      "metadata": {},
      "outputs": [],
      "source": []
    },
    {
      "attachments": {},
      "cell_type": "markdown",
      "metadata": {
        "id": "_kdFgpMxZznJ"
      },
      "source": [
        "## Init logger"
      ]
    },
    {
      "cell_type": "code",
      "execution_count": 5,
      "metadata": {
        "colab": {
          "base_uri": "https://localhost:8080/"
        },
        "id": "Z6DnpqLPZznK",
        "outputId": "078f5861-e753-4525-fe92-0516ac23f007"
      },
      "outputs": [],
      "source": [
        "# wandb.login()\n",
        "\n",
        "sweep_config = {\n",
        "  'method': 'grid',\n",
        "  'metric': {\n",
        "    'goal': 'maximize',\n",
        "    'name': 'val_accuracy'\n",
        "  },\n",
        "  'parameters': {\n",
        "      'epochs': {\n",
        "        'value': 50\n",
        "      },\n",
        "      'num_layers': {\n",
        "        'value': 3\n",
        "      },\n",
        "      'embed_layer_size': {\n",
        "        'value': 128\n",
        "      },\n",
        "      'fc_layer_size': {\n",
        "        'value': 256\n",
        "      },\n",
        "      'num_heads': {\n",
        "        'value': 6\n",
        "      },\n",
        "      'dropout': {\n",
        "        'value': 0.1\n",
        "      },\n",
        "      'attention_dropout': {\n",
        "        'value': 0.1\n",
        "      },\n",
        "      'optimizer': {\n",
        "        'value': 'adam'\n",
        "      },\n",
        "      'amsgrad': {\n",
        "        'value': False\n",
        "      },\n",
        "      'label_smoothing': {\n",
        "        'value': 0.1\n",
        "      },\n",
        "      'learning_rate': {\n",
        "        'value': 1e-3\n",
        "      },\n",
        "      #'weight_decay': {\n",
        "      #    'values': [2.5e-4, 1e-4, 5e-5, 1e-5]\n",
        "      #},\n",
        "      'warmup_steps': {\n",
        "        'value': 10\n",
        "      },\n",
        "      'batch_size': {\n",
        "        'value': 64\n",
        "      },\n",
        "      'global_clipnorm': {\n",
        "        'value': 3.0\n",
        "      },\n",
        "    }\n",
        "}\n",
        "\n",
        "# sweep_id = wandb.sweep(sweep_config, project=\"HAR-Transformer\")\n"
      ]
    },
    {
      "attachments": {},
      "cell_type": "markdown",
      "metadata": {
        "id": "-mGp0L3_ZznL"
      },
      "source": [
        "## Layer"
      ]
    },
    {
      "cell_type": "code",
      "execution_count": 6,
      "metadata": {
        "id": "0lFGhNtyZznL"
      },
      "outputs": [],
      "source": [
        "class PositionalEmbedding(Layer):\n",
        "    def __init__(self, units, dropout_rate, **kwargs):\n",
        "        super(PositionalEmbedding, self).__init__(**kwargs)\n",
        "\n",
        "        self.units = units\n",
        "\n",
        "        self.projection = Dense(units, kernel_initializer=TruncatedNormal(stddev=0.02))\n",
        "\n",
        "        self.dropout = Dropout(rate=dropout_rate)\n",
        "\n",
        "    def build(self, input_shape):\n",
        "        super(PositionalEmbedding, self).build(input_shape)\n",
        "\n",
        "        self.position = self.add_weight(\n",
        "            name=\"position\",\n",
        "            shape=(1, input_shape[1], self.units),\n",
        "            initializer=TruncatedNormal(stddev=0.02),\n",
        "            trainable=True,\n",
        "        )\n",
        "\n",
        "    def call(self, inputs, training):\n",
        "        x = self.projection(inputs)\n",
        "        x = x + self.position\n",
        "\n",
        "        return self.dropout(x, training=training)\n"
      ]
    },
    {
      "cell_type": "code",
      "execution_count": 7,
      "metadata": {
        "id": "PIwd6GlIZznM"
      },
      "outputs": [],
      "source": [
        "class Encoder(Layer):\n",
        "    def __init__(\n",
        "        self, embed_dim, mlp_dim, num_heads, dropout_rate, attention_dropout_rate, **kwargs\n",
        "    ):\n",
        "        super(Encoder, self).__init__(**kwargs)\n",
        "\n",
        "        self.mha = MultiHeadAttention(\n",
        "            num_heads=num_heads,\n",
        "            key_dim=embed_dim,\n",
        "            dropout=attention_dropout_rate,\n",
        "            kernel_initializer=TruncatedNormal(stddev=0.02),\n",
        "        )\n",
        "\n",
        "        self.dense_0 = Dense(\n",
        "            units=mlp_dim,\n",
        "            activation=\"gelu\",\n",
        "            kernel_initializer=TruncatedNormal(stddev=0.02),\n",
        "        )\n",
        "        self.dense_1 = Dense(\n",
        "            units=embed_dim, kernel_initializer=TruncatedNormal(stddev=0.02)\n",
        "        )\n",
        "\n",
        "        self.dropout_0 = Dropout(rate=dropout_rate)\n",
        "        self.dropout_1 = Dropout(rate=dropout_rate)\n",
        "\n",
        "        self.norm_0 = LayerNormalization(epsilon=1e-5)\n",
        "        self.norm_1 = LayerNormalization(epsilon=1e-5)\n",
        "\n",
        "        self.add_0 = Add()\n",
        "        self.add_1 = Add()\n",
        "\n",
        "    def call(self, inputs, training):\n",
        "        # Attention block\n",
        "        x = self.norm_0(inputs)\n",
        "        x = self.mha(\n",
        "            query=x,\n",
        "            value=x,\n",
        "            key=x,\n",
        "            training=training,\n",
        "        )\n",
        "        x = self.dropout_0(x, training=training)\n",
        "        x = self.add_0([x, inputs])\n",
        "\n",
        "        # MLP block\n",
        "        y = self.norm_1(x)\n",
        "        y = self.dense_0(y)\n",
        "        y = self.dense_1(y)\n",
        "        y = self.dropout_1(y, training=training)\n",
        "\n",
        "        return self.add_1([x, y])\n"
      ]
    },
    {
      "attachments": {},
      "cell_type": "markdown",
      "metadata": {
        "id": "YRQTRP60ZznN"
      },
      "source": [
        "## Model"
      ]
    },
    {
      "cell_type": "code",
      "execution_count": 8,
      "metadata": {
        "id": "UYEKK7pYZznN"
      },
      "outputs": [],
      "source": [
        "class Transformer(Model):\n",
        "    def __init__(\n",
        "        self,\n",
        "        num_layers,\n",
        "        embed_dim,\n",
        "        mlp_dim,\n",
        "        num_heads,\n",
        "        num_classes,\n",
        "        dropout_rate,\n",
        "        attention_dropout_rate,\n",
        "        **kwargs\n",
        "    ):\n",
        "        super(Transformer, self).__init__(**kwargs)\n",
        "\n",
        "        # Input (normalization of RAW measurements)\n",
        "        self.input_norm = Normalization()\n",
        "\n",
        "        # Input\n",
        "        self.pos_embs = PositionalEmbedding(embed_dim, dropout_rate)\n",
        "\n",
        "        # Encoder\n",
        "        self.e_layers = [\n",
        "            Encoder(embed_dim, mlp_dim, num_heads, dropout_rate, attention_dropout_rate)\n",
        "            for _ in range(num_layers)\n",
        "        ]\n",
        "\n",
        "        # Output\n",
        "        self.norm = LayerNormalization(epsilon=1e-5)\n",
        "        self.final_layer = Dense(num_classes, kernel_initializer=\"zeros\")\n",
        "\n",
        "    def call(self, inputs, training):\n",
        "        x = self.input_norm(inputs)\n",
        "        x = self.pos_embs(x, training=training)\n",
        "\n",
        "        for layer in self.e_layers:\n",
        "            x = layer(x, training=training)\n",
        "\n",
        "        x = self.norm(x)\n",
        "        x = self.final_layer(x)\n",
        "\n",
        "        return x\n"
      ]
    },
    {
      "attachments": {},
      "cell_type": "markdown",
      "metadata": {
        "id": "j42cze_qiAIb"
      },
      "source": [
        "## Loss"
      ]
    },
    {
      "cell_type": "code",
      "execution_count": 9,
      "metadata": {
        "id": "NK6QapYViAIb"
      },
      "outputs": [],
      "source": [
        "def smoothed_sparse_categorical_crossentropy(label_smoothing: float = 0.0):\n",
        "    def loss_fn(y_true, y_pred):\n",
        "        num_classes = tf.shape(y_pred)[-1]\n",
        "        y_true = tf.one_hot(y_true, num_classes)\n",
        "\n",
        "        loss = tf.keras.losses.categorical_crossentropy(y_true, y_pred, from_logits=True, label_smoothing=label_smoothing)\n",
        "        return tf.reduce_mean(loss)\n",
        "\n",
        "    return loss_fn"
      ]
    },
    {
      "attachments": {},
      "cell_type": "markdown",
      "metadata": {
        "id": "PxmZ1ZWBAgLX"
      },
      "source": [
        "## LR scheduler"
      ]
    },
    {
      "cell_type": "code",
      "execution_count": 10,
      "metadata": {
        "id": "GEtbF3TdAjDU"
      },
      "outputs": [],
      "source": [
        "def cosine_schedule(base_lr, total_steps, warmup_steps):\n",
        "    def step_fn(epoch):\n",
        "        lr = base_lr\n",
        "        epoch += 1\n",
        "\n",
        "        progress = (epoch - warmup_steps) / float(total_steps - warmup_steps)\n",
        "        progress = tf.clip_by_value(progress, 0.0, 1.0)\n",
        "        \n",
        "        lr = lr * 0.5 * (1.0 + tf.cos(math.pi * progress))\n",
        "\n",
        "        if warmup_steps:\n",
        "            lr = lr * tf.minimum(1.0, epoch / warmup_steps)\n",
        "\n",
        "        return lr\n",
        "\n",
        "    return step_fn\n",
        "\n"
      ]
    },
    {
      "cell_type": "code",
      "execution_count": 11,
      "metadata": {
        "id": "MBlu9AxBHG09"
      },
      "outputs": [],
      "source": [
        "class PrintLR(Callback):\n",
        "    def on_epoch_end(self, epoch, logs=None):\n",
        "        wandb.log({\"lr\": self.model.optimizer.lr.numpy()}, commit=False)"
      ]
    },
    {
      "attachments": {},
      "cell_type": "markdown",
      "metadata": {
        "id": "7dIynjZAZznP"
      },
      "source": [
        "## Dataset"
      ]
    },
    {
      "cell_type": "code",
      "execution_count": 12,
      "metadata": {},
      "outputs": [],
      "source": [
        "def load_data(type):\n",
        "    TRAINING_PATH = '../data/every_5s/train/'\n",
        "    VAL_PATH = '../data/every_5s/validate/'\n",
        "    TEST_PATH = '../data/every_5s/test/'\n",
        "    POS = 'Hand'\n",
        "    FILENAME_ACC = \"Acc_every_5s.npy\"\n",
        "    FILENAME_GYR = \"Gyr_every_5s.npy\"\n",
        "    FILENAME_MAG = \"Mag_every_5s.npy\"\n",
        "    FILENAME_LABEL = 'Label_every_5s.npy'\n",
        "    TYPE = ['train','test','validate']\n",
        "    if type == 'train':\n",
        "        dir = TRAINING_PATH\n",
        "    elif type == 'validate':\n",
        "        dir = VAL_PATH\n",
        "    elif type == 'test':\n",
        "        dir = TEST_PATH\n",
        "    else:\n",
        "        print('type is not valid.')\n",
        "        return\n",
        "    acc = np.load(os.path.join(dir,POS,FILENAME_ACC))[:,:,1:]\n",
        "    gyr = np.load(os.path.join(dir,POS,FILENAME_GYR))[:,:,1:]\n",
        "    mag = np.load(os.path.join(dir,POS,FILENAME_MAG))[:,:,1:]\n",
        "    \n",
        "    y = np.load(os.path.join(dir,FILENAME_LABEL))[:,:,1:].squeeze().astype('uint8')-1 if type != 'test' else None\n",
        "    X = np.concatenate([acc,gyr,mag],axis=2).astype('float32')\n",
        "    # print(X.shape,y.shape)\n",
        "    return X,y"
      ]
    },
    {
      "cell_type": "code",
      "execution_count": 13,
      "metadata": {
        "colab": {
          "base_uri": "https://localhost:8080/"
        },
        "id": "4GkimkgOZznP",
        "outputId": "c43e079b-f8b2-4d51-f9b0-a5339a3c9b77"
      },
      "outputs": [
        {
          "name": "stdout",
          "output_type": "stream",
          "text": [
            "(190037, 500, 9) (190037, 500)\n",
            "(21650, 500, 9) (21650, 500)\n"
          ]
        }
      ],
      "source": [
        "CLASS_LABELS = np.array(\n",
        "    ['Still', 'Walking', 'Run', 'Bike', 'Car', 'Bus', 'Train', 'Subway']\n",
        ")\n",
        "\n",
        "# load dataset\n",
        "X_train,y_train = load_data('train')\n",
        "X_val,y_val = load_data('validate')\n",
        "print(X_train.shape, y_train.shape)\n",
        "# print(X_test.shape, y_test.shape)\n",
        "print(X_val.shape, y_val.shape)\n"
      ]
    },
    {
      "cell_type": "code",
      "execution_count": 14,
      "metadata": {
        "colab": {
          "base_uri": "https://localhost:8080/",
          "height": 739
        },
        "id": "RSXjG7qHZznQ",
        "outputId": "c83fae89-3e09-4f05-eb7f-6c4b6ab76db4"
      },
      "outputs": [
        {
          "name": "stdout",
          "output_type": "stream",
          "text": [
            "[11863500 11608000  3789500 11692000 15759000 13993000 15476500 10837000]\n",
            "<class 'numpy.uint8'>\n",
            "[2127000 1896000   59500  964000 1541000  644000 1425500 2168000]\n"
          ]
        },
        {
          "data": {
            "image/png": "[encoded data removed]",
            "text/plain": [
              "<Figure size 800x800 with 1 Axes>"
            ]
          },
          "metadata": {},
          "output_type": "display_data"
        }
      ],
      "source": [
        "plt.figure(figsize=(10, 10), dpi=80)\n",
        "\n",
        "# unique, counts = np.unique(labels, return_counts=True)\n",
        "# plt.bar(CLASS_LABELS[unique], counts)\n",
        "# plt.xticks(rotation=70)\n",
        "\n",
        "unique, counts = np.unique(y_train, return_counts=True)\n",
        "print(counts)\n",
        "print(type(unique[0]))\n",
        "plt.bar(CLASS_LABELS[unique], counts)\n",
        "plt.xticks(rotation=70)\n",
        "\n",
        "# unique, counts = np.unique(y_test, return_counts=True)\n",
        "# plt.bar(CLASS_LABELS[unique], counts)\n",
        "# plt.xticks(rotation=70)\n",
        "\n",
        "unique, counts = np.unique(y_val, return_counts=True)\n",
        "print(counts)\n",
        "plt.bar(CLASS_LABELS[unique], counts)\n",
        "plt.xticks(rotation=70)\n",
        "\n",
        "# plt.legend([\"All\", \"Train\", \"Test\", \"Validation\"])\n",
        "plt.legend([\"Train\", \"Validation\"])\n",
        "\n",
        "plt.show()"
      ]
    },
    {
      "cell_type": "code",
      "execution_count": 15,
      "metadata": {},
      "outputs": [],
      "source": [
        "def generate_arrays(x, y, batch_size=32):\n",
        "    i = 0\n",
        "    while True:\n",
        "        batch_X = x[i * batch_size : (i + 1) * batch_size]\n",
        "        batch_y = y[i * batch_size : (i + 1) * batch_size]\n",
        "        if (i + 1) * batch_size >= len(x):\n",
        "            i = 0 # iのリセットは必要\n",
        "        else:\n",
        "            i += 1\n",
        "        yield process_data(batch_X, batch_y)\n",
        "        \n",
        "        \n",
        "class DataGenerator(Sequence):\n",
        "    def __init__(self, x_set, y_set, batch_size):\n",
        "        self.x, self.y = x_set, y_set\n",
        "        self.batch_size = batch_size\n",
        "\n",
        "    def __len__(self):\n",
        "        return int(np.ceil(len(self.x) / float(self.batch_size)))\n",
        "\n",
        "    def __getitem__(self, idx):\n",
        "        batch_x = self.x[idx * self.batch_size:(idx + 1) * self.batch_size]\n",
        "        batch_y = self.y[idx * self.batch_size:(idx + 1) * self.batch_size]\n",
        "        return batch_x, batch_y\n",
        "    \n",
        "def process_data(batch_X, batch_y):\n",
        "    # arr = {}   \n",
        "    # # パディングして履歴の長さをそろえる\n",
        "    # for c in batch_df.columns:\n",
        "    #     arr[c] = pad_sequences(batch_df[c], dtype='float32', maxlen=MAX_RES_TOKENS)\n",
        "\n",
        "    return (batch_X, batch_y)"
      ]
    },
    {
      "cell_type": "code",
      "execution_count": 16,
      "metadata": {
        "id": "QaZxGMgKZznS"
      },
      "outputs": [],
      "source": [
        "def train(config=None):\n",
        "  # with wandb.init(config=config):\n",
        "  #   config = wandb.config\n",
        "    # Generate new model  \n",
        "    model = Transformer(\n",
        "      num_layers=config.num_layers,\n",
        "      embed_dim=config.embed_layer_size,\n",
        "      mlp_dim=config.fc_layer_size,\n",
        "      num_heads=config.num_heads,\n",
        "      num_classes=8,\n",
        "      dropout_rate=config.dropout,\n",
        "      attention_dropout_rate=config.attention_dropout,\n",
        "    )\n",
        "    generator_train = DataGenerator(X_train,y_train,batch_size=config.batch_size)\n",
        "    generator_val = DataGenerator(X_val,y_val,batch_size=config.batch_size)\n",
        "    checkpoint_path = os.path.join(OUTPUT_DIR,MODEL_OUT,\"cp-{epoch:04d}.ckpt\")\n",
        "    checkpoint_dir = os.path.dirname(checkpoint_path)\n",
        "    # adapt on training dataset - must be before model.compile !!!\n",
        "    model.input_norm.adapt(X_train, batch_size=config.batch_size)\n",
        "    print(model.input_norm.variables)\n",
        "\n",
        "    # Select optimizer\n",
        "    if config.optimizer == \"adam\":\n",
        "      optim = Adam(\n",
        "          global_clipnorm=config.global_clipnorm,\n",
        "          amsgrad=config.amsgrad,\n",
        "      )\n",
        "    elif config.optimizer == \"adamw\":\n",
        "      optim = AdamW(\n",
        "          weight_decay=config.weight_decay,\n",
        "          amsgrad=config.amsgrad,\n",
        "          global_clipnorm=config.global_clipnorm,\n",
        "          exclude_from_weight_decay=[\"position\"]\n",
        "      )\n",
        "    else:\n",
        "      raise ValueError(\"The used optimizer is not in list of available\")\n",
        "\n",
        "    model.compile(\n",
        "      loss=smoothed_sparse_categorical_crossentropy(label_smoothing=config.label_smoothing),\n",
        "      optimizer=optim,\n",
        "      metrics=[\"accuracy\"],\n",
        "    )\n",
        "    model.build(input_shape=(config.batch_size,500,9))\n",
        "    # model.load_weights(os.path.join(OUTPUT_DIR,'0531.data-00000-of-00001'))\n",
        "    # Train model\n",
        "    \n",
        "      # model.fit(\n",
        "      #   X_train,\n",
        "      #   y_train,\n",
        "      #   batch_size=config.batch_size,\n",
        "      #   epochs=config.epochs,\n",
        "      #   validation_data=(X_val, y_val),\n",
        "      #   steps_per_epoch=config.steps_per_epoch\n",
        "      #   callbacks=[\n",
        "      #     LearningRateScheduler(cosine_schedule(base_lr=config.learning_rate, total_steps=config.epochs, warmup_steps=config.warmup_steps)),\n",
        "      #     # PrintLR(),\n",
        "      #     ModelCheckpoint(filepath=checkpoint_path,save_weights_only=True,verbose=1),\n",
        "      #     # WandbCallback(monitor=\"val_accuracy\", mode='max', save_weights_only=True),\n",
        "      #     EarlyStopping(monitor=\"val_accuracy\", mode='max', min_delta=0.001, patience=5),\n",
        "      #   ],\n",
        "      #   verbose=1\n",
        "      # )\n",
        "      # 一度にメモリに乗せるデータ\n",
        "      model.fit(\n",
        "          generator_train,\n",
        "          validation_data=generator_val,\n",
        "          epochs=config.epochs,\n",
        "          steps_per_epoch=len(X_train) // config.batch_size,\n",
        "          validation_steps=len(X_val) // config.batch_size,\n",
        "          callbacks=[\n",
        "          LearningRateScheduler(cosine_schedule(base_lr=config.learning_rate, total_steps=config.epochs, warmup_steps=config.warmup_steps)),\n",
        "          # PrintLR(),\n",
        "          ModelCheckpoint(filepath=checkpoint_path,save_weights_only=True,verbose=1),\n",
        "          # WandbCallback(monitor=\"val_accuracy\", mode='max', save_weights_only=True),\n",
        "          EarlyStopping(monitor=\"val_accuracy\", mode='max', min_delta=0.001, patience=5),\n",
        "        ],\n",
        "        verbose=1\n",
        "      )\n",
        "    except Exception as e:\n",
        "      print(e)\n",
        "      del model\n",
        "  \n",
        "    # plot_model(\n",
        "    # model,\n",
        "    # show_shapes=True,\n",
        "    # )\n",
        "    model.summary()"
      ]
    },
    {
      "cell_type": "code",
      "execution_count": 17,
      "metadata": {},
      "outputs": [],
      "source": [
        "class config:\n",
        "  epochs=50\n",
        "  num_layers=3\n",
        "  # embed_layer_size=96\n",
        "  embed_layer_size=128\n",
        "  fc_layer_size=256\n",
        "  # num_heads=6\n",
        "  num_heads=6\n",
        "  dropout=0.2\n",
        "  attention_dropout=0.2\n",
        "  optimizer='adamw'\n",
        "  amsgrad=False\n",
        "  label_smoothing=0.1\n",
        "  learning_rate=1e-4\n",
        "  weight_decay=5e-5\n",
        "  warmup_steps=10\n",
        "  batch_size=32\n",
        "  global_clipnorm=3.0"
      ]
    },
    {
      "cell_type": "code",
      "execution_count": 18,
      "metadata": {
        "colab": {
          "base_uri": "https://localhost:8080/",
          "height": 1000,
          "referenced_widgets": [
            "c2f96abecad54565be62d18c1b5c1e68",
            "fa0aba1429524429af176534638122db",
            "0054c6582b4c45faa323add90dd34770",
            "634c65b48e0b40359f6158364fb54ad7",
            "ebdfa2b37e5540e39bd6624f22eeb19a",
            "7198820fcadc4aaf875ee617dd605fbc",
            "18adf181e391491a9426d17e69a8c574",
            "dc1f7e46eaf643999d482c3b17e3bee6"
          ]
        },
        "id": "J743-OTSSsZy",
        "outputId": "1ea18bc2-7308-4e10-cabf-7c94643fab4a"
      },
      "outputs": [
        {
          "name": "stdout",
          "output_type": "stream",
          "text": [
            "[<tf.Variable 'mean:0' shape=(9,) dtype=float32, numpy=\n",
            "array([-8.7519389e-01, -6.0505122e-02, -4.0406590e+00,  3.0122532e-03,\n",
            "       -8.3216961e-04, -4.0412671e-03,  1.5119601e+00, -3.8158035e-01,\n",
            "        1.0203282e+01], dtype=float32)>, <tf.Variable 'variance:0' shape=(9,) dtype=float32, numpy=\n",
            "array([3.60271568e+01, 3.05202122e+01, 4.26727791e+01, 1.23518777e+00,\n",
            "       1.24649918e+00, 8.31556261e-01, 1.01520715e+03, 1.05609973e+03,\n",
            "       1.22910986e+03], dtype=float32)>, <tf.Variable 'count:0' shape=() dtype=int64, numpy=95018500>]\n",
            "Epoch 1/50\n",
            "5938/5938 [==============================] - ETA: 0s - loss: 1.9369 - accuracy: 0.2962\n",
            "Epoch 1: saving model to ../output/model/transformer/0606\\cp-0001.ckpt\n",
            "5938/5938 [==============================] - 991s 166ms/step - loss: 1.9369 - accuracy: 0.2962 - val_loss: 1.9348 - val_accuracy: 0.0851 - lr: 1.0000e-05\n",
            "Epoch 2/50\n",
            "5938/5938 [==============================] - ETA: 0s - loss: 1.7210 - accuracy: 0.3507\n",
            "Epoch 2: saving model to ../output/model/transformer/0606\\cp-0002.ckpt\n",
            "5938/5938 [==============================] - 990s 167ms/step - loss: 1.7210 - accuracy: 0.3507 - val_loss: 1.8241 - val_accuracy: 0.2116 - lr: 2.0000e-05\n",
            "Epoch 3/50\n",
            "5938/5938 [==============================] - ETA: 0s - loss: 1.6410 - accuracy: 0.3809\n",
            "Epoch 3: saving model to ../output/model/transformer/0606\\cp-0003.ckpt\n",
            "5938/5938 [==============================] - 998s 168ms/step - loss: 1.6410 - accuracy: 0.3809 - val_loss: 1.7700 - val_accuracy: 0.2767 - lr: 3.0000e-05\n",
            "Epoch 4/50\n",
            "5938/5938 [==============================] - ETA: 0s - loss: 1.5969 - accuracy: 0.4063\n",
            "Epoch 4: saving model to ../output/model/transformer/0606\\cp-0004.ckpt\n",
            "5938/5938 [==============================] - 1052s 177ms/step - loss: 1.5969 - accuracy: 0.4063 - val_loss: 1.8155 - val_accuracy: 0.3225 - lr: 4.0000e-05\n",
            "Epoch 5/50\n",
            "5938/5938 [==============================] - ETA: 0s - loss: 1.5679 - accuracy: 0.4364\n",
            "Epoch 5: saving model to ../output/model/transformer/0606\\cp-0005.ckpt\n",
            "5938/5938 [==============================] - 673s 113ms/step - loss: 1.5679 - accuracy: 0.4364 - val_loss: 1.7873 - val_accuracy: 0.3664 - lr: 5.0000e-05\n",
            "Epoch 6/50\n",
            "5938/5938 [==============================] - ETA: 0s - loss: 1.5319 - accuracy: 0.4648\n",
            "Epoch 6: saving model to ../output/model/transformer/0606\\cp-0006.ckpt\n",
            "5938/5938 [==============================] - 982s 165ms/step - loss: 1.5319 - accuracy: 0.4648 - val_loss: 1.8399 - val_accuracy: 0.3202 - lr: 6.0000e-05\n",
            "Epoch 7/50\n",
            "5938/5938 [==============================] - ETA: 0s - loss: 1.5152 - accuracy: 0.4726\n",
            "Epoch 7: saving model to ../output/model/transformer/0606\\cp-0007.ckpt\n",
            "5938/5938 [==============================] - 957s 161ms/step - loss: 1.5152 - accuracy: 0.4726 - val_loss: 1.8281 - val_accuracy: 0.2436 - lr: 7.0000e-05\n",
            "Epoch 8/50\n",
            "5938/5938 [==============================] - ETA: 0s - loss: 1.4916 - accuracy: 0.4813\n",
            "Epoch 8: saving model to ../output/model/transformer/0606\\cp-0008.ckpt\n",
            "5938/5938 [==============================] - 950s 160ms/step - loss: 1.4916 - accuracy: 0.4813 - val_loss: 1.8351 - val_accuracy: 0.3952 - lr: 8.0000e-05\n",
            "Epoch 9/50\n",
            "5938/5938 [==============================] - ETA: 0s - loss: 1.4786 - accuracy: 0.4934\n",
            "Epoch 9: saving model to ../output/model/transformer/0606\\cp-0009.ckpt\n",
            "5938/5938 [==============================] - 941s 159ms/step - loss: 1.4786 - accuracy: 0.4934 - val_loss: 1.6775 - val_accuracy: 0.4286 - lr: 9.0000e-05\n",
            "Epoch 10/50\n",
            "5938/5938 [==============================] - ETA: 0s - loss: 1.4608 - accuracy: 0.5043\n",
            "Epoch 10: saving model to ../output/model/transformer/0606\\cp-0010.ckpt\n",
            "5938/5938 [==============================] - 945s 159ms/step - loss: 1.4608 - accuracy: 0.5043 - val_loss: 1.8073 - val_accuracy: 0.4134 - lr: 1.0000e-04\n",
            "Epoch 11/50\n",
            "5938/5938 [==============================] - ETA: 0s - loss: 1.4490 - accuracy: 0.5059\n",
            "Epoch 11: saving model to ../output/model/transformer/0606\\cp-0011.ckpt\n",
            "5938/5938 [==============================] - 955s 161ms/step - loss: 1.4490 - accuracy: 0.5059 - val_loss: 1.7622 - val_accuracy: 0.3449 - lr: 9.9846e-05\n",
            "Epoch 12/50\n",
            "5938/5938 [==============================] - ETA: 0s - loss: 1.4374 - accuracy: 0.5123\n",
            "Epoch 12: saving model to ../output/model/transformer/0606\\cp-0012.ckpt\n",
            "5938/5938 [==============================] - 953s 160ms/step - loss: 1.4374 - accuracy: 0.5123 - val_loss: 1.8322 - val_accuracy: 0.3486 - lr: 9.9384e-05\n",
            "Epoch 13/50\n",
            "5938/5938 [==============================] - ETA: 0s - loss: 1.4300 - accuracy: 0.5143\n",
            "Epoch 13: saving model to ../output/model/transformer/0606\\cp-0013.ckpt\n",
            "5938/5938 [==============================] - 949s 160ms/step - loss: 1.4300 - accuracy: 0.5143 - val_loss: 1.8554 - val_accuracy: 0.4362 - lr: 9.8618e-05\n",
            "Epoch 14/50\n",
            "5938/5938 [==============================] - ETA: 0s - loss: 1.4311 - accuracy: 0.5221\n",
            "Epoch 14: saving model to ../output/model/transformer/0606\\cp-0014.ckpt\n",
            "5938/5938 [==============================] - 935s 157ms/step - loss: 1.4311 - accuracy: 0.5221 - val_loss: 1.7116 - val_accuracy: 0.4310 - lr: 9.7553e-05\n",
            "Epoch 15/50\n",
            "5938/5938 [==============================] - ETA: 0s - loss: 1.4210 - accuracy: 0.5274\n",
            "Epoch 15: saving model to ../output/model/transformer/0606\\cp-0015.ckpt\n",
            "5938/5938 [==============================] - 942s 159ms/step - loss: 1.4210 - accuracy: 0.5274 - val_loss: 1.6397 - val_accuracy: 0.3813 - lr: 9.6194e-05\n",
            "Epoch 16/50\n",
            "5938/5938 [==============================] - ETA: 0s - loss: 1.4219 - accuracy: 0.5244\n",
            "Epoch 16: saving model to ../output/model/transformer/0606\\cp-0016.ckpt\n",
            "5938/5938 [==============================] - 938s 158ms/step - loss: 1.4219 - accuracy: 0.5244 - val_loss: 1.6368 - val_accuracy: 0.4676 - lr: 9.4550e-05\n",
            "Epoch 17/50\n",
            "5938/5938 [==============================] - ETA: 0s - loss: 1.4160 - accuracy: 0.5267\n",
            "Epoch 17: saving model to ../output/model/transformer/0606\\cp-0017.ckpt\n",
            "5938/5938 [==============================] - 922s 155ms/step - loss: 1.4160 - accuracy: 0.5267 - val_loss: 1.6401 - val_accuracy: 0.4660 - lr: 9.2632e-05\n",
            "Epoch 18/50\n",
            "5938/5938 [==============================] - ETA: 0s - loss: 1.4101 - accuracy: 0.5311\n",
            "Epoch 18: saving model to ../output/model/transformer/0606\\cp-0018.ckpt\n",
            "5938/5938 [==============================] - 910s 153ms/step - loss: 1.4101 - accuracy: 0.5311 - val_loss: 1.6243 - val_accuracy: 0.3711 - lr: 9.0451e-05\n",
            "Epoch 19/50\n",
            "5938/5938 [==============================] - ETA: 0s - loss: 1.4119 - accuracy: 0.5276\n",
            "Epoch 19: saving model to ../output/model/transformer/0606\\cp-0019.ckpt\n",
            "5938/5938 [==============================] - 910s 153ms/step - loss: 1.4119 - accuracy: 0.5276 - val_loss: 1.6626 - val_accuracy: 0.4170 - lr: 8.8020e-05\n",
            "Epoch 20/50\n",
            "5938/5938 [==============================] - ETA: 0s - loss: 1.4137 - accuracy: 0.5282\n",
            "Epoch 20: saving model to ../output/model/transformer/0606\\cp-0020.ckpt\n",
            "5938/5938 [==============================] - 910s 153ms/step - loss: 1.4137 - accuracy: 0.5282 - val_loss: 1.7387 - val_accuracy: 0.4345 - lr: 8.5355e-05\n",
            "Epoch 21/50\n",
            "5938/5938 [==============================] - ETA: 0s - loss: 1.4098 - accuracy: 0.5317\n",
            "Epoch 21: saving model to ../output/model/transformer/0606\\cp-0021.ckpt\n",
            "5938/5938 [==============================] - 910s 153ms/step - loss: 1.4098 - accuracy: 0.5317 - val_loss: 1.7658 - val_accuracy: 0.3306 - lr: 8.2472e-05\n",
            "Model: \"transformer\"\n",
            "_________________________________________________________________\n",
            " Layer (type)                Output Shape              Param #   \n",
            "=================================================================\n",
            " normalization (Normalizatio  multiple                 19        \n",
            " n)                                                              \n",
            "                                                                 \n",
            " positional_embedding (Posit  multiple                 65280     \n",
            " ionalEmbedding)                                                 \n",
            "                                                                 \n",
            " encoder (Encoder)           multiple                  462080    \n",
            "                                                                 \n",
            " encoder_1 (Encoder)         multiple                  462080    \n",
            "                                                                 \n",
            " encoder_2 (Encoder)         multiple                  462080    \n",
            "                                                                 \n",
            " layer_normalization_6 (Laye  multiple                 256       \n",
            " rNormalization)                                                 \n",
            "                                                                 \n",
            " dense_7 (Dense)             multiple                  1032      \n",
            "                                                                 \n",
            "=================================================================\n",
            "Total params: 1,452,827\n",
            "Trainable params: 1,452,808\n",
            "Non-trainable params: 19\n",
            "_________________________________________________________________\n"
          ]
        }
      ],
      "source": [
        "train(config=config)"
      ]
    },
    {
      "attachments": {},
      "cell_type": "markdown",
      "metadata": {},
      "source": [
        "Model: \"transformer\"\n",
        "_________________________________________________________________\n",
        " Layer (type)                Output Shape              Param    \n",
        "=================================================================\n",
        " normalization (Normalizatio  multiple                 19        n)                                                              \n",
        "                                                                 \n",
        " positional_embedding (Posit  multiple                 65280     \n",
        " ionalEmbedding)                                                 \n",
        "                                                                 \n",
        " encoder (Encoder)           multiple                  396160    \n",
        "                                                                 \n",
        " encoder_1 (Encoder)         multiple                  396160    \n",
        "                                                                 \n",
        " encoder_2 (Encoder)         multiple                  396160    \n",
        "                                                                 \n",
        " layer_normalization_6 (Laye  multiple                 256       \n",
        " rNormalization)                                                 \n",
        "                                                                 \n",
        " dense_7 (Dense)             multiple                  2322      \n",
        "                                                                 \n",
        "=================================================================\n",
        "Total params: 1,256,357\n",
        "Trainable params: 1,256,338\n",
        "Non-trainable params: 19\n",
        "_________________________________________________________________"
      ]
    },
    {
      "cell_type": "code",
      "execution_count": 19,
      "metadata": {},
      "outputs": [
        {
          "data": {
            "text/plain": [
              "3"
            ]
          },
          "execution_count": 19,
          "metadata": {},
          "output_type": "execute_result"
        }
      ],
      "source": [
        "\n",
        "config.num_layers"
      ]
    },
    {
      "cell_type": "code",
      "execution_count": 20,
      "metadata": {},
      "outputs": [],
      "source": [
        "tf.keras.backend.clear_session()"
      ]
    },
    {
      "cell_type": "code",
      "execution_count": 21,
      "metadata": {},
      "outputs": [],
      "source": [
        "%load_ext tensorboard"
      ]
    },
    {
      "cell_type": "code",
      "execution_count": 22,
      "metadata": {},
      "outputs": [
        {
          "ename": "TypeError",
          "evalue": "'type' object is not iterable",
          "output_type": "error",
          "traceback": [
            "\u001b[1;31m---------------------------------------------------------------------------\u001b[0m",
            "\u001b[1;31mTypeError\u001b[0m                                 Traceback (most recent call last)",
            "Cell \u001b[1;32mIn[22], line 3\u001b[0m\n\u001b[0;32m      1\u001b[0m \u001b[39mimport\u001b[39;00m \u001b[39mmultiprocessing\u001b[39;00m\n\u001b[1;32m----> 3\u001b[0m process_eval \u001b[39m=\u001b[39m multiprocessing\u001b[39m.\u001b[39;49mProcess(target\u001b[39m=\u001b[39;49mtrain, args\u001b[39m=\u001b[39;49m(config))\n\u001b[0;32m      4\u001b[0m process_eval\u001b[39m.\u001b[39mstart()\n\u001b[0;32m      5\u001b[0m process_eval\u001b[39m.\u001b[39mjoin()\n",
            "File \u001b[1;32mc:\\Users\\bsa\\Anaconda3\\envs\\shl2023\\lib\\multiprocessing\\process.py:91\u001b[0m, in \u001b[0;36mBaseProcess.__init__\u001b[1;34m(self, group, target, name, args, kwargs, daemon)\u001b[0m\n\u001b[0;32m     89\u001b[0m \u001b[39mself\u001b[39m\u001b[39m.\u001b[39m_closed \u001b[39m=\u001b[39m \u001b[39mFalse\u001b[39;00m\n\u001b[0;32m     90\u001b[0m \u001b[39mself\u001b[39m\u001b[39m.\u001b[39m_target \u001b[39m=\u001b[39m target\n\u001b[1;32m---> 91\u001b[0m \u001b[39mself\u001b[39m\u001b[39m.\u001b[39m_args \u001b[39m=\u001b[39m \u001b[39mtuple\u001b[39;49m(args)\n\u001b[0;32m     92\u001b[0m \u001b[39mself\u001b[39m\u001b[39m.\u001b[39m_kwargs \u001b[39m=\u001b[39m \u001b[39mdict\u001b[39m(kwargs)\n\u001b[0;32m     93\u001b[0m \u001b[39mself\u001b[39m\u001b[39m.\u001b[39m_name \u001b[39m=\u001b[39m name \u001b[39mor\u001b[39;00m \u001b[39mtype\u001b[39m(\u001b[39mself\u001b[39m)\u001b[39m.\u001b[39m\u001b[39m__name__\u001b[39m \u001b[39m+\u001b[39m \u001b[39m'\u001b[39m\u001b[39m-\u001b[39m\u001b[39m'\u001b[39m \u001b[39m+\u001b[39m \\\n\u001b[0;32m     94\u001b[0m              \u001b[39m'\u001b[39m\u001b[39m:\u001b[39m\u001b[39m'\u001b[39m\u001b[39m.\u001b[39mjoin(\u001b[39mstr\u001b[39m(i) \u001b[39mfor\u001b[39;00m i \u001b[39min\u001b[39;00m \u001b[39mself\u001b[39m\u001b[39m.\u001b[39m_identity)\n",
            "\u001b[1;31mTypeError\u001b[0m: 'type' object is not iterable"
          ]
        }
      ],
      "source": [
        "import multiprocessing\n",
        "\n",
        "process_eval = multiprocessing.Process(target=train, args=(config))\n",
        "process_eval.start()\n",
        "process_eval.join()"
      ]
    }
  ],
  "metadata": {
    "accelerator": "GPU",
    "colab": {
      "collapsed_sections": [],
      "name": "Training_posledna_verzia_3-3.ipynb",
      "provenance": []
    },
    "interpreter": {
      "hash": "9185113d2128201d66faecd4f34fb34e89a635073a034991399523e584519355"
    },
    "kernelspec": {
      "display_name": "Python 3.9.6 64-bit ('base': conda)",
      "language": "python",
      "name": "python3"
    },
    "language_info": {
      "codemirror_mode": {
        "name": "ipython",
        "version": 3
      },
      "file_extension": ".py",
      "mimetype": "text/x-python",
      "name": "python",
      "nbconvert_exporter": "python",
      "pygments_lexer": "ipython3",
      "version": "3.10.6"
    },
    "orig_nbformat": 4,
    "widgets": {
      "application/vnd.jupyter.widget-state+json": {
        "0054c6582b4c45faa323add90dd34770": {
          "model_module": "@jupyter-widgets/controls",
          "model_module_version": "1.5.0",
          "model_name": "LabelModel",
          "state": {
            "_dom_classes": [],
            "_model_module": "@jupyter-widgets/controls",
            "_model_module_version": "1.5.0",
            "_model_name": "LabelModel",
            "_view_count": null,
            "_view_module": "@jupyter-widgets/controls",
            "_view_module_version": "1.5.0",
            "_view_name": "LabelView",
            "description": "",
            "description_tooltip": null,
            "layout": "IPY_MODEL_7198820fcadc4aaf875ee617dd605fbc",
            "placeholder": "​",
            "style": "IPY_MODEL_ebdfa2b37e5540e39bd6624f22eeb19a",
            "value": " 5.55MB of 5.55MB uploaded (0.00MB deduped)\r"
          }
        },
        "18adf181e391491a9426d17e69a8c574": {
          "model_module": "@jupyter-widgets/controls",
          "model_module_version": "1.5.0",
          "model_name": "ProgressStyleModel",
          "state": {
            "_model_module": "@jupyter-widgets/controls",
            "_model_module_version": "1.5.0",
            "_model_name": "ProgressStyleModel",
            "_view_count": null,
            "_view_module": "@jupyter-widgets/base",
            "_view_module_version": "1.2.0",
            "_view_name": "StyleView",
            "bar_color": null,
            "description_width": ""
          }
        },
        "634c65b48e0b40359f6158364fb54ad7": {
          "model_module": "@jupyter-widgets/controls",
          "model_module_version": "1.5.0",
          "model_name": "FloatProgressModel",
          "state": {
            "_dom_classes": [],
            "_model_module": "@jupyter-widgets/controls",
            "_model_module_version": "1.5.0",
            "_model_name": "FloatProgressModel",
            "_view_count": null,
            "_view_module": "@jupyter-widgets/controls",
            "_view_module_version": "1.5.0",
            "_view_name": "ProgressView",
            "bar_style": "",
            "description": "",
            "description_tooltip": null,
            "layout": "IPY_MODEL_dc1f7e46eaf643999d482c3b17e3bee6",
            "max": 1,
            "min": 0,
            "orientation": "horizontal",
            "style": "IPY_MODEL_18adf181e391491a9426d17e69a8c574",
            "value": 1
          }
        },
        "7198820fcadc4aaf875ee617dd605fbc": {
          "model_module": "@jupyter-widgets/base",
          "model_module_version": "1.2.0",
          "model_name": "LayoutModel",
          "state": {
            "_model_module": "@jupyter-widgets/base",
            "_model_module_version": "1.2.0",
            "_model_name": "LayoutModel",
            "_view_count": null,
            "_view_module": "@jupyter-widgets/base",
            "_view_module_version": "1.2.0",
            "_view_name": "LayoutView",
            "align_content": null,
            "align_items": null,
            "align_self": null,
            "border": null,
            "bottom": null,
            "display": null,
            "flex": null,
            "flex_flow": null,
            "grid_area": null,
            "grid_auto_columns": null,
            "grid_auto_flow": null,
            "grid_auto_rows": null,
            "grid_column": null,
            "grid_gap": null,
            "grid_row": null,
            "grid_template_areas": null,
            "grid_template_columns": null,
            "grid_template_rows": null,
            "height": null,
            "justify_content": null,
            "justify_items": null,
            "left": null,
            "margin": null,
            "max_height": null,
            "max_width": null,
            "min_height": null,
            "min_width": null,
            "object_fit": null,
            "object_position": null,
            "order": null,
            "overflow": null,
            "overflow_x": null,
            "overflow_y": null,
            "padding": null,
            "right": null,
            "top": null,
            "visibility": null,
            "width": null
          }
        },
        "c2f96abecad54565be62d18c1b5c1e68": {
          "model_module": "@jupyter-widgets/controls",
          "model_module_version": "1.5.0",
          "model_name": "VBoxModel",
          "state": {
            "_dom_classes": [],
            "_model_module": "@jupyter-widgets/controls",
            "_model_module_version": "1.5.0",
            "_model_name": "VBoxModel",
            "_view_count": null,
            "_view_module": "@jupyter-widgets/controls",
            "_view_module_version": "1.5.0",
            "_view_name": "VBoxView",
            "box_style": "",
            "children": [
              "IPY_MODEL_0054c6582b4c45faa323add90dd34770",
              "IPY_MODEL_634c65b48e0b40359f6158364fb54ad7"
            ],
            "layout": "IPY_MODEL_fa0aba1429524429af176534638122db"
          }
        },
        "dc1f7e46eaf643999d482c3b17e3bee6": {
          "model_module": "@jupyter-widgets/base",
          "model_module_version": "1.2.0",
          "model_name": "LayoutModel",
          "state": {
            "_model_module": "@jupyter-widgets/base",
            "_model_module_version": "1.2.0",
            "_model_name": "LayoutModel",
            "_view_count": null,
            "_view_module": "@jupyter-widgets/base",
            "_view_module_version": "1.2.0",
            "_view_name": "LayoutView",
            "align_content": null,
            "align_items": null,
            "align_self": null,
            "border": null,
            "bottom": null,
            "display": null,
            "flex": null,
            "flex_flow": null,
            "grid_area": null,
            "grid_auto_columns": null,
            "grid_auto_flow": null,
            "grid_auto_rows": null,
            "grid_column": null,
            "grid_gap": null,
            "grid_row": null,
            "grid_template_areas": null,
            "grid_template_columns": null,
            "grid_template_rows": null,
            "height": null,
            "justify_content": null,
            "justify_items": null,
            "left": null,
            "margin": null,
            "max_height": null,
            "max_width": null,
            "min_height": null,
            "min_width": null,
            "object_fit": null,
            "object_position": null,
            "order": null,
            "overflow": null,
            "overflow_x": null,
            "overflow_y": null,
            "padding": null,
            "right": null,
            "top": null,
            "visibility": null,
            "width": null
          }
        },
        "ebdfa2b37e5540e39bd6624f22eeb19a": {
          "model_module": "@jupyter-widgets/controls",
          "model_module_version": "1.5.0",
          "model_name": "DescriptionStyleModel",
          "state": {
            "_model_module": "@jupyter-widgets/controls",
            "_model_module_version": "1.5.0",
            "_model_name": "DescriptionStyleModel",
            "_view_count": null,
            "_view_module": "@jupyter-widgets/base",
            "_view_module_version": "1.2.0",
            "_view_name": "StyleView",
            "description_width": ""
          }
        },
        "fa0aba1429524429af176534638122db": {
          "model_module": "@jupyter-widgets/base",
          "model_module_version": "1.2.0",
          "model_name": "LayoutModel",
          "state": {
            "_model_module": "@jupyter-widgets/base",
            "_model_module_version": "1.2.0",
            "_model_name": "LayoutModel",
            "_view_count": null,
            "_view_module": "@jupyter-widgets/base",
            "_view_module_version": "1.2.0",
            "_view_name": "LayoutView",
            "align_content": null,
            "align_items": null,
            "align_self": null,
            "border": null,
            "bottom": null,
            "display": null,
            "flex": null,
            "flex_flow": null,
            "grid_area": null,
            "grid_auto_columns": null,
            "grid_auto_flow": null,
            "grid_auto_rows": null,
            "grid_column": null,
            "grid_gap": null,
            "grid_row": null,
            "grid_template_areas": null,
            "grid_template_columns": null,
            "grid_template_rows": null,
            "height": null,
            "justify_content": null,
            "justify_items": null,
            "left": null,
            "margin": null,
            "max_height": null,
            "max_width": null,
            "min_height": null,
            "min_width": null,
            "object_fit": null,
            "object_position": null,
            "order": null,
            "overflow": null,
            "overflow_x": null,
            "overflow_y": null,
            "padding": null,
            "right": null,
            "top": null,
            "visibility": null,
            "width": null
          }
        }
      }
    }
  },
  "nbformat": 4,
  "nbformat_minor": 0
}
